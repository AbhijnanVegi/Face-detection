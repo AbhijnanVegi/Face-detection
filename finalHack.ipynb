{
  "cells": [
    {
      "cell_type": "markdown",
      "metadata": {
        "id": "PrUa2b8iiO9u"
      },
      "source": [
        "Clone the yolov5 github and install the required python packages"
      ]
    },
    {
      "cell_type": "code",
      "execution_count": null,
      "metadata": {
        "id": "2FJOifekbgw7"
      },
      "outputs": [],
      "source": [
        "!git clone https://github.com/ultralytics/yolov5\n",
        "%cd yolov5\n",
        "%pip install -qr requirements.txt  # install dependencies"
      ]
    },
    {
      "cell_type": "markdown",
      "metadata": {
        "id": "hVrjCB62iXKX"
      },
      "source": [
        "Download and unzip the dataset for training the model"
      ]
    },
    {
      "cell_type": "code",
      "execution_count": null,
      "metadata": {
        "id": "tZADS6k-th_i"
      },
      "outputs": [],
      "source": [
        "%pip install gdown\n",
        "!gdown https://drive.google.com/u/0/uc?id=1WkvFH-_mVHnj14zmG2yv7ZTk4rGoOL1P\n",
        "!unzip dataset.zip"
      ]
    },
    {
      "cell_type": "markdown",
      "metadata": {},
      "source": [
        "The output model results are stored under runs/train/hackHack"
      ]
    },
    {
      "cell_type": "code",
      "execution_count": null,
      "metadata": {
        "colab": {
          "base_uri": "https://localhost:8080/"
        },
        "id": "0LzLN_WPeRyV",
        "outputId": "56003a90-20df-4ed0-f7e7-9f6df7401501"
      },
      "outputs": [],
      "source": [
        "!python train.py --img 416 --batch 32 --epochs 10 --data Workspace/data.yaml --cfg yolov5s.yaml --weights '' --name hackHack"
      ]
    }
  ],
  "metadata": {
    "accelerator": "GPU",
    "colab": {
      "collapsed_sections": [],
      "name": "hackHack_face_mask_detection.ipynb",
      "provenance": []
    },
    "kernelspec": {
      "display_name": "Python 3",
      "name": "python3"
    },
    "language_info": {
      "name": "python"
    }
  },
  "nbformat": 4,
  "nbformat_minor": 0
}
